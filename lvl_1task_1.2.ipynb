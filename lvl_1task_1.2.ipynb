{
  "nbformat": 4,
  "nbformat_minor": 0,
  "metadata": {
    "colab": {
      "provenance": []
    },
    "kernelspec": {
      "name": "python3",
      "display_name": "Python 3"
    },
    "language_info": {
      "name": "python"
    }
  },
  "cells": [
    {
      "cell_type": "code",
      "source": [],
      "metadata": {
        "id": "bAHwTOSjvUNB"
      },
      "execution_count": null,
      "outputs": []
    },
    {
      "cell_type": "code",
      "execution_count": 268,
      "metadata": {
        "colab": {
          "base_uri": "https://localhost:8080/"
        },
        "id": "m-bQaBlZRX6H",
        "outputId": "4b7080d2-b51e-401c-b23e-7ece932c6931"
      },
      "outputs": [
        {
          "output_type": "stream",
          "name": "stdout",
          "text": [
            "Название 1 -го трека:  Beautiful Day  - Продолжительность:  4.04\n",
            "Название 2 -го трека: Staying' Alive  - Продолжительность:  3.4\n",
            "Название 3 -го трека: Nowhere to Run  - Продолжительность:  2.58\n",
            "10\n"
          ]
        }
      ],
      "source": [
        "\n",
        "# Задача 2\n",
        "# Задача 1.2.\n",
        "\n",
        "# Пункт A. \n",
        "# Приведем плейлист песен в виде списка списков\n",
        "# Список my_favorite_songs содержит список названий и длительности каждого трека\n",
        "# Выведите общее время звучания трех случайных песен в формате\n",
        "# Три песни звучат ХХХ минут\n",
        "import random\n",
        "import datetime as dt\n",
        "\n",
        "\n",
        "my_favorite_songs = [\n",
        "    ['Waste a Moment', 3.03],\n",
        "    ['New Salvation', 4.02],\n",
        "    ['Staying\\' Alive', 3.40],\n",
        "    ['Out of Touch', 3.03],\n",
        "    ['A Sorta Fairytale', 5.28],\n",
        "    ['Easy', 4.15],\n",
        "    ['Beautiful Day', 4.04],\n",
        "    ['Nowhere to Run', 2.58],\n",
        "    ['In This World', 4.02],\n",
        "]\n",
        "\n",
        "k=(float)\n",
        "l=(float)\n",
        "\n",
        "n=3\n",
        "time_song=(random.sample(my_favorite_songs,n))\n",
        "x=[lst[0] for lst in time_song]\n",
        "y=[lst[1] for lst in time_song]\n",
        "print('Название 1 -го трека: ',x[0],' - Продолжительность: ',y[0])\n",
        "print('Название 2 -го трека:', x[1],' - Продолжительность: ',y[1])\n",
        "print('Название 3 -го трека:', x[2],' - Продолжительность: ',y[2])\n",
        "sum=(y[0]+y[1]+y[2])\n",
        "total=int(sum)\n",
        "print('Общая продолжительность песен в минутах: ', total)\n",
        "\n",
        "# Есть словарь песен \n",
        "# Распечатайте общее время звучания трех случайных песен\n",
        "# Вывод: Три песни звучат ХХХ минут.\n",
        "\n"
      ]
    }
  ]
}
# Есть словарь песен 
# Распечатайте общее время звучания трех случайных песен
# Вывод: Три песни звучат ХХХ минут.
dict = {'Waste a Moment': 3.03, 'New Salvation': 4.02, 'Staying\' Alive': 3.40, 'Out of Touch': 3.03, 'A Sorta Fairytale': 5.28, 'Easy': 4.15, 'Beautiful Day': 4.04, 'Nowhere to Run': 2.58, 'In This World': 4.02}

k=3
key1,value1 = random.choice(list(dict.items()))
key2,value2 = random.choice(list(dict.items()))
key3,value3 = random.choice(list(dict.items()))


print('1-й трек: ',key1, value1 )
print('2-й трек: ',key2, value2 )
print('3-й трек: ',key3, value3 )
summ=int(value1+value2+value3)
print(summ)
